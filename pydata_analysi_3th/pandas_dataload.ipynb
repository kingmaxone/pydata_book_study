{
 "cells": [
  {
   "cell_type": "code",
   "execution_count": 21,
   "metadata": {},
   "outputs": [],
   "source": [
    "import pandas as pd\n",
    "import numpy as np"
   ]
  },
  {
   "cell_type": "code",
   "execution_count": 22,
   "metadata": {
    "scrolled": true
   },
   "outputs": [
    {
     "data": {
      "text/html": [
       "<div>\n",
       "<style scoped>\n",
       "    .dataframe tbody tr th:only-of-type {\n",
       "        vertical-align: middle;\n",
       "    }\n",
       "\n",
       "    .dataframe tbody tr th {\n",
       "        vertical-align: top;\n",
       "    }\n",
       "\n",
       "    .dataframe thead th {\n",
       "        text-align: right;\n",
       "    }\n",
       "</style>\n",
       "<table border=\"1\" class=\"dataframe\">\n",
       "  <thead>\n",
       "    <tr style=\"text-align: right;\">\n",
       "      <th></th>\n",
       "      <th>a</th>\n",
       "      <th>b</th>\n",
       "      <th>c</th>\n",
       "      <th>d</th>\n",
       "    </tr>\n",
       "    <tr>\n",
       "      <th>message</th>\n",
       "      <th></th>\n",
       "      <th></th>\n",
       "      <th></th>\n",
       "      <th></th>\n",
       "    </tr>\n",
       "  </thead>\n",
       "  <tbody>\n",
       "    <tr>\n",
       "      <th>hello</th>\n",
       "      <td>1</td>\n",
       "      <td>2</td>\n",
       "      <td>3</td>\n",
       "      <td>4</td>\n",
       "    </tr>\n",
       "    <tr>\n",
       "      <th>world</th>\n",
       "      <td>5</td>\n",
       "      <td>6</td>\n",
       "      <td>7</td>\n",
       "      <td>8</td>\n",
       "    </tr>\n",
       "    <tr>\n",
       "      <th>foo</th>\n",
       "      <td>9</td>\n",
       "      <td>10</td>\n",
       "      <td>11</td>\n",
       "      <td>12</td>\n",
       "    </tr>\n",
       "  </tbody>\n",
       "</table>\n",
       "</div>"
      ],
      "text/plain": [
       "         a   b   c   d\n",
       "message               \n",
       "hello    1   2   3   4\n",
       "world    5   6   7   8\n",
       "foo      9  10  11  12"
      ]
     },
     "execution_count": 22,
     "metadata": {},
     "output_type": "execute_result"
    }
   ],
   "source": [
    "# index_col 指定列作为索引\n",
    "pd.read_csv('examples/ex2.csv',header=None,names=['a','b','c','d','message'],index_col='message')"
   ]
  },
  {
   "cell_type": "code",
   "execution_count": 23,
   "metadata": {},
   "outputs": [
    {
     "data": {
      "text/html": [
       "<div>\n",
       "<style scoped>\n",
       "    .dataframe tbody tr th:only-of-type {\n",
       "        vertical-align: middle;\n",
       "    }\n",
       "\n",
       "    .dataframe tbody tr th {\n",
       "        vertical-align: top;\n",
       "    }\n",
       "\n",
       "    .dataframe thead th {\n",
       "        text-align: right;\n",
       "    }\n",
       "</style>\n",
       "<table border=\"1\" class=\"dataframe\">\n",
       "  <thead>\n",
       "    <tr style=\"text-align: right;\">\n",
       "      <th></th>\n",
       "      <th></th>\n",
       "      <th>value1</th>\n",
       "      <th>value2</th>\n",
       "    </tr>\n",
       "    <tr>\n",
       "      <th>key1</th>\n",
       "      <th>key2</th>\n",
       "      <th></th>\n",
       "      <th></th>\n",
       "    </tr>\n",
       "  </thead>\n",
       "  <tbody>\n",
       "    <tr>\n",
       "      <th rowspan=\"4\" valign=\"top\">one</th>\n",
       "      <th>a</th>\n",
       "      <td>1</td>\n",
       "      <td>2</td>\n",
       "    </tr>\n",
       "    <tr>\n",
       "      <th>b</th>\n",
       "      <td>3</td>\n",
       "      <td>4</td>\n",
       "    </tr>\n",
       "    <tr>\n",
       "      <th>c</th>\n",
       "      <td>5</td>\n",
       "      <td>6</td>\n",
       "    </tr>\n",
       "    <tr>\n",
       "      <th>d</th>\n",
       "      <td>7</td>\n",
       "      <td>8</td>\n",
       "    </tr>\n",
       "    <tr>\n",
       "      <th rowspan=\"4\" valign=\"top\">two</th>\n",
       "      <th>a</th>\n",
       "      <td>9</td>\n",
       "      <td>10</td>\n",
       "    </tr>\n",
       "    <tr>\n",
       "      <th>b</th>\n",
       "      <td>11</td>\n",
       "      <td>12</td>\n",
       "    </tr>\n",
       "    <tr>\n",
       "      <th>c</th>\n",
       "      <td>13</td>\n",
       "      <td>14</td>\n",
       "    </tr>\n",
       "    <tr>\n",
       "      <th>d</th>\n",
       "      <td>15</td>\n",
       "      <td>16</td>\n",
       "    </tr>\n",
       "  </tbody>\n",
       "</table>\n",
       "</div>"
      ],
      "text/plain": [
       "           value1  value2\n",
       "key1 key2                \n",
       "one  a          1       2\n",
       "     b          3       4\n",
       "     c          5       6\n",
       "     d          7       8\n",
       "two  a          9      10\n",
       "     b         11      12\n",
       "     c         13      14\n",
       "     d         15      16"
      ]
     },
     "execution_count": 23,
     "metadata": {},
     "output_type": "execute_result"
    }
   ],
   "source": [
    "# 指定多列为索引列\n",
    "pd.read_csv('examples/csv_mindex.csv',index_col=['key1','key2'])"
   ]
  },
  {
   "cell_type": "code",
   "execution_count": 24,
   "metadata": {},
   "outputs": [
    {
     "data": {
      "text/html": [
       "<div>\n",
       "<style scoped>\n",
       "    .dataframe tbody tr th:only-of-type {\n",
       "        vertical-align: middle;\n",
       "    }\n",
       "\n",
       "    .dataframe tbody tr th {\n",
       "        vertical-align: top;\n",
       "    }\n",
       "\n",
       "    .dataframe thead th {\n",
       "        text-align: right;\n",
       "    }\n",
       "</style>\n",
       "<table border=\"1\" class=\"dataframe\">\n",
       "  <thead>\n",
       "    <tr style=\"text-align: right;\">\n",
       "      <th></th>\n",
       "      <th>something</th>\n",
       "      <th>a</th>\n",
       "      <th>b</th>\n",
       "      <th>c</th>\n",
       "      <th>d</th>\n",
       "      <th>message</th>\n",
       "    </tr>\n",
       "  </thead>\n",
       "  <tbody>\n",
       "    <tr>\n",
       "      <th>0</th>\n",
       "      <td>one</td>\n",
       "      <td>1</td>\n",
       "      <td>2</td>\n",
       "      <td>3.0</td>\n",
       "      <td>4</td>\n",
       "      <td>NaN</td>\n",
       "    </tr>\n",
       "    <tr>\n",
       "      <th>1</th>\n",
       "      <td>two</td>\n",
       "      <td>5</td>\n",
       "      <td>6</td>\n",
       "      <td>NaN</td>\n",
       "      <td>8</td>\n",
       "      <td>world</td>\n",
       "    </tr>\n",
       "    <tr>\n",
       "      <th>2</th>\n",
       "      <td>three</td>\n",
       "      <td>9</td>\n",
       "      <td>10</td>\n",
       "      <td>11.0</td>\n",
       "      <td>12</td>\n",
       "      <td>foo</td>\n",
       "    </tr>\n",
       "  </tbody>\n",
       "</table>\n",
       "</div>"
      ],
      "text/plain": [
       "  something  a   b     c   d message\n",
       "0       one  1   2   3.0   4     NaN\n",
       "1       two  5   6   NaN   8   world\n",
       "2     three  9  10  11.0  12     foo"
      ]
     },
     "execution_count": 24,
     "metadata": {},
     "output_type": "execute_result"
    }
   ],
   "source": [
    "pd.read_csv('examples/ex5.csv')"
   ]
  },
  {
   "cell_type": "code",
   "execution_count": 25,
   "metadata": {},
   "outputs": [],
   "source": [
    "# na_values 可以接受一组表示缺失值的字符串，即将指定的部分用常用的缺失值表示法表示\n",
    "# pandas中使用NA，NULL等标记\n",
    "df=pd.read_csv('examples/ex5.csv',na_values={'something':['two'],'message':['foo','NA']})"
   ]
  },
  {
   "cell_type": "code",
   "execution_count": 26,
   "metadata": {},
   "outputs": [
    {
     "data": {
      "text/plain": [
       "something    one\n",
       "a              1\n",
       "b              2\n",
       "c              3\n",
       "d              4\n",
       "message      NaN\n",
       "Name: 0, dtype: object"
      ]
     },
     "execution_count": 26,
     "metadata": {},
     "output_type": "execute_result"
    }
   ],
   "source": [
    "# df['a']\n",
    "df.iloc[0]"
   ]
  },
  {
   "cell_type": "code",
   "execution_count": 27,
   "metadata": {},
   "outputs": [
    {
     "name": "stdout",
     "output_type": "stream",
     "text": [
      "1\t2\t3.0\t4\r\n",
      "5\t6\t\t8\r\n",
      "9\t10\t11.0\t12\r\n"
     ]
    }
   ],
   "source": [
    "import sys\n",
    "df.to_csv(sys.stdout,sep='\\t',header=None,index=False,columns=list('abcd'),)"
   ]
  },
  {
   "cell_type": "code",
   "execution_count": 28,
   "metadata": {},
   "outputs": [
    {
     "data": {
      "text/plain": [
       "DatetimeIndex(['2019-01-01 00:00:00', '2019-01-01 03:00:00',\n",
       "               '2019-01-01 06:00:00'],\n",
       "              dtype='datetime64[ns]', freq='3H')"
      ]
     },
     "execution_count": 28,
     "metadata": {},
     "output_type": "execute_result"
    }
   ],
   "source": [
    "# 添加索引\n",
    "dates=pd.date_range('1/1/2019',periods=3,freq='3H')\n",
    "dates"
   ]
  },
  {
   "cell_type": "code",
   "execution_count": 29,
   "metadata": {},
   "outputs": [
    {
     "data": {
      "text/plain": [
       "2019-01-01 00:00:00    0.0\n",
       "2019-01-01 03:00:00    1.0\n",
       "2019-01-01 06:00:00    2.0\n",
       "Freq: 3H, dtype: float64"
      ]
     },
     "execution_count": 29,
     "metadata": {},
     "output_type": "execute_result"
    }
   ],
   "source": [
    "pd.Series(np.arange(3.),index=dates)"
   ]
  },
  {
   "cell_type": "code",
   "execution_count": 30,
   "metadata": {},
   "outputs": [
    {
     "data": {
      "text/html": [
       "<div>\n",
       "<style scoped>\n",
       "    .dataframe tbody tr th:only-of-type {\n",
       "        vertical-align: middle;\n",
       "    }\n",
       "\n",
       "    .dataframe tbody tr th {\n",
       "        vertical-align: top;\n",
       "    }\n",
       "\n",
       "    .dataframe thead th {\n",
       "        text-align: right;\n",
       "    }\n",
       "</style>\n",
       "<table border=\"1\" class=\"dataframe\">\n",
       "  <thead>\n",
       "    <tr style=\"text-align: right;\">\n",
       "      <th></th>\n",
       "      <th>0</th>\n",
       "      <th>1</th>\n",
       "    </tr>\n",
       "  </thead>\n",
       "  <tbody>\n",
       "    <tr>\n",
       "      <th>0</th>\n",
       "      <td>2000-01-01</td>\n",
       "      <td>0</td>\n",
       "    </tr>\n",
       "    <tr>\n",
       "      <th>1</th>\n",
       "      <td>2000-01-02</td>\n",
       "      <td>1</td>\n",
       "    </tr>\n",
       "    <tr>\n",
       "      <th>2</th>\n",
       "      <td>2000-01-03</td>\n",
       "      <td>2</td>\n",
       "    </tr>\n",
       "    <tr>\n",
       "      <th>3</th>\n",
       "      <td>2000-01-04</td>\n",
       "      <td>3</td>\n",
       "    </tr>\n",
       "    <tr>\n",
       "      <th>4</th>\n",
       "      <td>2000-01-05</td>\n",
       "      <td>4</td>\n",
       "    </tr>\n",
       "    <tr>\n",
       "      <th>5</th>\n",
       "      <td>2000-01-06</td>\n",
       "      <td>5</td>\n",
       "    </tr>\n",
       "    <tr>\n",
       "      <th>6</th>\n",
       "      <td>2000-01-07</td>\n",
       "      <td>6</td>\n",
       "    </tr>\n",
       "  </tbody>\n",
       "</table>\n",
       "</div>"
      ],
      "text/plain": [
       "            0  1\n",
       "0  2000-01-01  0\n",
       "1  2000-01-02  1\n",
       "2  2000-01-03  2\n",
       "3  2000-01-04  3\n",
       "4  2000-01-05  4\n",
       "5  2000-01-06  5\n",
       "6  2000-01-07  6"
      ]
     },
     "execution_count": 30,
     "metadata": {},
     "output_type": "execute_result"
    }
   ],
   "source": [
    "# 读取病解析含有日期的文件\n",
    "df2=pd.read_csv('examples/tseries.csv',header=None,parse_dates=True)\n",
    "df2"
   ]
  },
  {
   "cell_type": "code",
   "execution_count": 31,
   "metadata": {},
   "outputs": [
    {
     "data": {
      "text/plain": [
       "7"
      ]
     },
     "execution_count": 31,
     "metadata": {},
     "output_type": "execute_result"
    }
   ],
   "source": [
    "# df2为7行2列的数据\n",
    "df2.shape[0]"
   ]
  },
  {
   "cell_type": "code",
   "execution_count": 32,
   "metadata": {},
   "outputs": [],
   "source": [
    "obj=\"\"\"\n",
    "{\n",
    "      \"UniqueId\": \"GadgetCategory\",\n",
    "      \"Title\": \"CATEGORY_GADGET\",\n",
    "      \"Subtitle\": \"\",\n",
    "      \"ImagePath\": \"\",\n",
    "      \"Description\": \"Toys & Gadgets\",\n",
    "      \"Items\": [\n",
    "        {\n",
    "          \"UniqueId\": \"GadgetCategory-Item-1\",\n",
    "          \"Title\": \"Bulldozer\",\n",
    "          \"ImagePath\": \"Assets/Catalog/bulldozer.3mf\",\n",
    "          \"Description\": \"ACTION_BULLDOZER\",\n",
    "          \"ItemPath\": \"Assets/Catalog/bulldozer.3mf\"\n",
    "        },\n",
    "        {\n",
    "          \"UniqueId\": \"GadgetCategory-Item-3\",\n",
    "          \"Title\": \"Spheres\",\n",
    "          \"ImagePath\": \"Assets/Catalog/spheres.3mf\",\n",
    "          \"Description\": \"ACTION_SPHERES\",\n",
    "          \"ItemPath\": \"Assets/Catalog/spheres.3mf\"\n",
    "        }\n",
    "      ]  \n",
    "}\n",
    "\"\"\""
   ]
  },
  {
   "cell_type": "code",
   "execution_count": 33,
   "metadata": {},
   "outputs": [
    {
     "data": {
      "text/plain": [
       "[{'UniqueId': 'GadgetCategory-Item-1',\n",
       "  'Title': 'Bulldozer',\n",
       "  'ImagePath': 'Assets/Catalog/bulldozer.3mf',\n",
       "  'Description': 'ACTION_BULLDOZER',\n",
       "  'ItemPath': 'Assets/Catalog/bulldozer.3mf'},\n",
       " {'UniqueId': 'GadgetCategory-Item-3',\n",
       "  'Title': 'Spheres',\n",
       "  'ImagePath': 'Assets/Catalog/spheres.3mf',\n",
       "  'Description': 'ACTION_SPHERES',\n",
       "  'ItemPath': 'Assets/Catalog/spheres.3mf'}]"
      ]
     },
     "execution_count": 33,
     "metadata": {},
     "output_type": "execute_result"
    }
   ],
   "source": [
    "import json\n",
    "res=json.loads(obj)\n",
    "res['Items']"
   ]
  },
  {
   "cell_type": "code",
   "execution_count": 34,
   "metadata": {},
   "outputs": [
    {
     "data": {
      "text/html": [
       "<div>\n",
       "<style scoped>\n",
       "    .dataframe tbody tr th:only-of-type {\n",
       "        vertical-align: middle;\n",
       "    }\n",
       "\n",
       "    .dataframe tbody tr th {\n",
       "        vertical-align: top;\n",
       "    }\n",
       "\n",
       "    .dataframe thead th {\n",
       "        text-align: right;\n",
       "    }\n",
       "</style>\n",
       "<table border=\"1\" class=\"dataframe\">\n",
       "  <thead>\n",
       "    <tr style=\"text-align: right;\">\n",
       "      <th></th>\n",
       "      <th>Description</th>\n",
       "      <th>ImagePath</th>\n",
       "      <th>ItemPath</th>\n",
       "      <th>Title</th>\n",
       "      <th>UniqueId</th>\n",
       "    </tr>\n",
       "  </thead>\n",
       "  <tbody>\n",
       "    <tr>\n",
       "      <th>0</th>\n",
       "      <td>ACTION_BULLDOZER</td>\n",
       "      <td>Assets/Catalog/bulldozer.3mf</td>\n",
       "      <td>Assets/Catalog/bulldozer.3mf</td>\n",
       "      <td>Bulldozer</td>\n",
       "      <td>GadgetCategory-Item-1</td>\n",
       "    </tr>\n",
       "    <tr>\n",
       "      <th>1</th>\n",
       "      <td>ACTION_SPHERES</td>\n",
       "      <td>Assets/Catalog/spheres.3mf</td>\n",
       "      <td>Assets/Catalog/spheres.3mf</td>\n",
       "      <td>Spheres</td>\n",
       "      <td>GadgetCategory-Item-3</td>\n",
       "    </tr>\n",
       "  </tbody>\n",
       "</table>\n",
       "</div>"
      ],
      "text/plain": [
       "        Description                     ImagePath  \\\n",
       "0  ACTION_BULLDOZER  Assets/Catalog/bulldozer.3mf   \n",
       "1    ACTION_SPHERES    Assets/Catalog/spheres.3mf   \n",
       "\n",
       "                       ItemPath      Title               UniqueId  \n",
       "0  Assets/Catalog/bulldozer.3mf  Bulldozer  GadgetCategory-Item-1  \n",
       "1    Assets/Catalog/spheres.3mf    Spheres  GadgetCategory-Item-3  "
      ]
     },
     "execution_count": 34,
     "metadata": {},
     "output_type": "execute_result"
    }
   ],
   "source": [
    "pd.DataFrame(res['Items'])"
   ]
  },
  {
   "cell_type": "code",
   "execution_count": 40,
   "metadata": {},
   "outputs": [],
   "source": [
    "# xml  html\n",
    "\n",
    "from  lxml.html import  parse\n",
    "from urllib.request import urlopen\n",
    "\n",
    "parsed=parse(urlopen('http://finance.yahoo.com/q/op?s=AAPL+Options'))\n",
    "doc=parsed.getroot()"
   ]
  },
  {
   "cell_type": "code",
   "execution_count": 50,
   "metadata": {
    "scrolled": true
   },
   "outputs": [
    {
     "data": {
      "text/plain": [
       "['https://finance.yahoo.com/',\n",
       " 'https://mail.yahoo.com/?.intl=us&.lang=en-US&.partner=none&.src=finance',\n",
       " '/quote/AAPL?p=AAPL',\n",
       " '/quote/AAPL/key-statistics?p=AAPL',\n",
       " '/quote/AAPL/history?p=AAPL']"
      ]
     },
     "execution_count": 50,
     "metadata": {},
     "output_type": "execute_result"
    }
   ],
   "source": [
    "# 使用xpath查询某一标签\n",
    "urls=[link.get('href') for link in doc.findall('.//a')]\n",
    "urls[:5]"
   ]
  },
  {
   "cell_type": "code",
   "execution_count": 54,
   "metadata": {},
   "outputs": [
    {
     "data": {
      "text/plain": [
       "[<Element tr at 0x2817066f408>,\n",
       " <Element tr at 0x2817066f228>,\n",
       " <Element tr at 0x2817066f458>,\n",
       " <Element tr at 0x2817066f4a8>,\n",
       " <Element tr at 0x2817066f4f8>,\n",
       " <Element tr at 0x2817066f548>,\n",
       " <Element tr at 0x2817066f598>,\n",
       " <Element tr at 0x2817066f5e8>,\n",
       " <Element tr at 0x2817066f638>,\n",
       " <Element tr at 0x2817066f688>,\n",
       " <Element tr at 0x2817066f6d8>,\n",
       " <Element tr at 0x2817066f728>,\n",
       " <Element tr at 0x2817066f778>,\n",
       " <Element tr at 0x2817066f7c8>,\n",
       " <Element tr at 0x2817066f818>,\n",
       " <Element tr at 0x2817066f868>,\n",
       " <Element tr at 0x2817066f8b8>,\n",
       " <Element tr at 0x2817066f908>,\n",
       " <Element tr at 0x2817066f958>,\n",
       " <Element tr at 0x2817066f9a8>,\n",
       " <Element tr at 0x2817066f9f8>,\n",
       " <Element tr at 0x2817066fa48>,\n",
       " <Element tr at 0x2817066fa98>,\n",
       " <Element tr at 0x2817066fae8>,\n",
       " <Element tr at 0x2817066fb38>,\n",
       " <Element tr at 0x2817066fb88>,\n",
       " <Element tr at 0x2817066fbd8>,\n",
       " <Element tr at 0x2817066fc28>,\n",
       " <Element tr at 0x2817066fc78>,\n",
       " <Element tr at 0x2817066fcc8>,\n",
       " <Element tr at 0x2817066fd18>,\n",
       " <Element tr at 0x2817066fd68>,\n",
       " <Element tr at 0x2817066fdb8>,\n",
       " <Element tr at 0x2817066fe08>,\n",
       " <Element tr at 0x2817066fe58>,\n",
       " <Element tr at 0x2817066fea8>,\n",
       " <Element tr at 0x2817066fef8>,\n",
       " <Element tr at 0x2817066ff48>,\n",
       " <Element tr at 0x2817066ff98>,\n",
       " <Element tr at 0x28170677048>,\n",
       " <Element tr at 0x28170677098>]"
      ]
     },
     "execution_count": 54,
     "metadata": {},
     "output_type": "execute_result"
    }
   ],
   "source": [
    "tables=doc.findall('.//table')\n",
    "tables[0].findall('.//tr')"
   ]
  }
 ],
 "metadata": {
  "kernelspec": {
   "display_name": "Python 3",
   "language": "python",
   "name": "python3"
  },
  "language_info": {
   "codemirror_mode": {
    "name": "ipython",
    "version": 3
   },
   "file_extension": ".py",
   "mimetype": "text/x-python",
   "name": "python",
   "nbconvert_exporter": "python",
   "pygments_lexer": "ipython3",
   "version": "3.7.3"
  }
 },
 "nbformat": 4,
 "nbformat_minor": 2
}
